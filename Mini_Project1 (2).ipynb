{
  "nbformat": 4,
  "nbformat_minor": 0,
  "metadata": {
    "colab": {
      "name": "Mini Project1",
      "provenance": [],
      "collapsed_sections": []
    },
    "interpreter": {
      "hash": "e4e9227d832dc9e17768780106ce3b9f84d4a17fc850b44b5e5a05f23459cc7d"
    },
    "kernelspec": {
      "display_name": "Python 3.8.5 64-bit ('base': conda)",
      "name": "python3"
    },
    "language_info": {
      "codemirror_mode": {
        "name": "ipython",
        "version": 3
      },
      "file_extension": ".py",
      "mimetype": "text/x-python",
      "name": "python",
      "nbconvert_exporter": "python",
      "pygments_lexer": "ipython3",
      "version": "3.8.5"
    }
  },
  "cells": [
    {
      "cell_type": "markdown",
      "metadata": {
        "id": "eBv5KZzAuZJo"
      },
      "source": [
        "# Ayiti Analytics Data Processing Bootcamp\n",
        "  Ayiti Analytics Data wants to expand its training centers throughout all the communes of the country. Your role as a data analyst is to help them realize this dream.\n",
        "\n",
        "Its objective is to know which three communes of the country will be the most likely to expand its training centers.\n",
        "\n",
        "Knowing that each cohort must have 30 students\n",
        " \n",
        "* How many applications must be made to select 25% women for each on average\n",
        "\n",
        "* What are the most effective communication channels (Alumni, Facebook, WhatsApp, Friend ...) that will allow a student to be susceptible to selection\n",
        " \n",
        "* What is the average number of university students who should participate in this program\n",
        "* What will be the average number of applications per week that we could have\n",
        "* How many weeks should we extend the application process to select 60 students per commune?\n",
        "* If we were to do all the bootcamp online, who would be the best communes and how many applications would we need to select 30 student and what percentage of students would have a laptop, an internet connection, both at the same time\n",
        "* What are the most effective communication channels (Alumni, Facebook, WhatsApp, Friend ...) that will allow a women to be susceptible to selection\n",
        "\n",
        "### NB \n",
        "Use the same framework of the BA project to complete this project\n"
      ]
    },
    {
      "cell_type": "markdown",
      "metadata": {
        "id": "qfNEZvV3CqWJ"
      },
      "source": [
        "#Retrieve Dataset"
      ]
    },
    {
      "cell_type": "code",
      "metadata": {
        "id": "zxxiHjpUXCbq"
      },
      "source": [
        "import pandas as pd\n",
        "import numpy as np\n",
        "from matplotlib import pyplot as plt\n",
        "import re as re\n",
        "import seaborn as sns\n",
        "import datetime as dt"
      ],
      "execution_count": null,
      "outputs": []
    },
    {
      "cell_type": "code",
      "metadata": {
        "id": "0i9dCFWfXK-M",
        "colab": {
          "base_uri": "https://localhost:8080/"
        },
        "outputId": "fd585475-baf2-4144-b344-429be9122ad0"
      },
      "source": [
        "!pip install seaborn"
      ],
      "execution_count": null,
      "outputs": [
        {
          "output_type": "stream",
          "text": [
            "Requirement already satisfied: seaborn in /usr/local/lib/python3.7/dist-packages (0.11.1)\n",
            "Requirement already satisfied: scipy>=1.0 in /usr/local/lib/python3.7/dist-packages (from seaborn) (1.4.1)\n",
            "Requirement already satisfied: pandas>=0.23 in /usr/local/lib/python3.7/dist-packages (from seaborn) (1.1.5)\n",
            "Requirement already satisfied: numpy>=1.15 in /usr/local/lib/python3.7/dist-packages (from seaborn) (1.19.5)\n",
            "Requirement already satisfied: matplotlib>=2.2 in /usr/local/lib/python3.7/dist-packages (from seaborn) (3.2.2)\n",
            "Requirement already satisfied: pytz>=2017.2 in /usr/local/lib/python3.7/dist-packages (from pandas>=0.23->seaborn) (2018.9)\n",
            "Requirement already satisfied: python-dateutil>=2.7.3 in /usr/local/lib/python3.7/dist-packages (from pandas>=0.23->seaborn) (2.8.1)\n",
            "Requirement already satisfied: kiwisolver>=1.0.1 in /usr/local/lib/python3.7/dist-packages (from matplotlib>=2.2->seaborn) (1.3.1)\n",
            "Requirement already satisfied: cycler>=0.10 in /usr/local/lib/python3.7/dist-packages (from matplotlib>=2.2->seaborn) (0.10.0)\n",
            "Requirement already satisfied: pyparsing!=2.0.4,!=2.1.2,!=2.1.6,>=2.0.1 in /usr/local/lib/python3.7/dist-packages (from matplotlib>=2.2->seaborn) (2.4.7)\n",
            "Requirement already satisfied: six>=1.5 in /usr/local/lib/python3.7/dist-packages (from python-dateutil>=2.7.3->pandas>=0.23->seaborn) (1.15.0)\n"
          ],
          "name": "stdout"
        }
      ]
    },
    {
      "cell_type": "code",
      "metadata": {
        "id": "fkqQAHDwuZJs"
      },
      "source": [
        "# WRITE CODES TO READ FILES\n",
        "commune = pd.read_excel(r'commune.xlsx')\n",
        "enroll = pd.read_csv(r'enroll.csv')\n",
        "industry = pd.read_csv(r'industry.csv')\n",
        "ord = pd.read_csv(r'ord.csv')\n",
        "quest = pd.read_csv(r'quest.csv')\n",
        "study_domain = pd.read_csv(r'study_domain.csv')\n",
        "technology = pd.read_csv(r'technology.csv')\n",
        "transaction = pd.read_csv(r'transaction.csv')"
      ],
      "execution_count": null,
      "outputs": []
    },
    {
      "cell_type": "markdown",
      "metadata": {
        "id": "-dqxSWsZDSwE"
      },
      "source": [
        "#Data Processing"
      ]
    },
    {
      "cell_type": "code",
      "metadata": {
        "id": "AAIyUrahv6ia"
      },
      "source": [
        "commune.head(1)"
      ],
      "execution_count": null,
      "outputs": []
    },
    {
      "cell_type": "code",
      "metadata": {
        "id": "l413NXhUwDLI"
      },
      "source": [
        "enroll.head(1)"
      ],
      "execution_count": null,
      "outputs": []
    },
    {
      "cell_type": "code",
      "metadata": {
        "id": "S9ckT5BvwHld"
      },
      "source": [
        "industry.head(1)"
      ],
      "execution_count": null,
      "outputs": []
    },
    {
      "cell_type": "code",
      "metadata": {
        "id": "wHrnM9R-wMGG"
      },
      "source": [
        "ord.head(1)"
      ],
      "execution_count": null,
      "outputs": []
    },
    {
      "cell_type": "code",
      "metadata": {
        "id": "RJlwhdMEwQGr"
      },
      "source": [
        "quest"
      ],
      "execution_count": null,
      "outputs": []
    },
    {
      "cell_type": "code",
      "metadata": {
        "id": "yrRk_jyNwavY"
      },
      "source": [
        "study_domain.head(1)"
      ],
      "execution_count": null,
      "outputs": []
    },
    {
      "cell_type": "code",
      "metadata": {
        "id": "wvmMsMm6wkJV"
      },
      "source": [
        "technology.head(1)"
      ],
      "execution_count": null,
      "outputs": []
    },
    {
      "cell_type": "code",
      "metadata": {
        "id": "QKPEGa_swpaE"
      },
      "source": [
        "transaction.head(1)"
      ],
      "execution_count": null,
      "outputs": []
    },
    {
      "cell_type": "markdown",
      "metadata": {
        "id": "ULzKjsnlEGj6"
      },
      "source": [
        "#Data Cleaning"
      ]
    },
    {
      "cell_type": "code",
      "metadata": {
        "id": "nd4OMqXVATIq"
      },
      "source": [
        "# REVOVE DUPLICATES\n",
        "industry =  pd.get_dummies(data = industry[['key','quest_id','values']], columns=['values'],prefix='', prefix_sep='')"
      ],
      "execution_count": null,
      "outputs": []
    },
    {
      "cell_type": "code",
      "metadata": {
        "colab": {
          "base_uri": "https://localhost:8080/"
        },
        "id": "EARNwIURLuR8",
        "outputId": "91433eae-080e-4581-e6e7-dcd95f8c99af"
      },
      "source": [
        "industry.quest_id.nunique()"
      ],
      "execution_count": null,
      "outputs": [
        {
          "output_type": "execute_result",
          "data": {
            "text/plain": [
              "246"
            ]
          },
          "metadata": {
            "tags": []
          },
          "execution_count": 340
        }
      ]
    },
    {
      "cell_type": "code",
      "metadata": {
        "id": "F_3QxjUoL3Q0"
      },
      "source": [
        "industry= industry.groupby('quest_id').sum()"
      ],
      "execution_count": null,
      "outputs": []
    },
    {
      "cell_type": "code",
      "metadata": {
        "id": "CY-nPDmtC4Df"
      },
      "source": [
        "study_domain= pd.get_dummies(data=study_domain[['key','quest_id','values']], columns=['values'], prefix = '', prefix_sep='')\n"
      ],
      "execution_count": null,
      "outputs": []
    },
    {
      "cell_type": "code",
      "metadata": {
        "colab": {
          "base_uri": "https://localhost:8080/"
        },
        "id": "kFIFmAcVMBRQ",
        "outputId": "93410b7a-0e23-4f2e-cd2b-06296410efcf"
      },
      "source": [
        "study_domain.quest_id.nunique()\n"
      ],
      "execution_count": null,
      "outputs": [
        {
          "output_type": "execute_result",
          "data": {
            "text/plain": [
              "244"
            ]
          },
          "metadata": {
            "tags": []
          },
          "execution_count": 343
        }
      ]
    },
    {
      "cell_type": "code",
      "metadata": {
        "id": "nwq4vBfzMGgI"
      },
      "source": [
        "study_domain= study_domain.groupby('quest_id').sum()"
      ],
      "execution_count": null,
      "outputs": []
    },
    {
      "cell_type": "code",
      "metadata": {
        "id": "wdMyyw5BEPqv"
      },
      "source": [
        "technology = pd.get_dummies(data= technology[['quest_id','values']], columns=['values'], prefix='', prefix_sep='',)\n"
      ],
      "execution_count": null,
      "outputs": []
    },
    {
      "cell_type": "code",
      "metadata": {
        "colab": {
          "base_uri": "https://localhost:8080/"
        },
        "id": "N7AVrPjRMSkT",
        "outputId": "00deb34c-2bf7-45d7-893a-72fd00aebcb0"
      },
      "source": [
        "technology.quest_id.nunique()"
      ],
      "execution_count": null,
      "outputs": [
        {
          "output_type": "execute_result",
          "data": {
            "text/plain": [
              "244"
            ]
          },
          "metadata": {
            "tags": []
          },
          "execution_count": 346
        }
      ]
    },
    {
      "cell_type": "code",
      "metadata": {
        "id": "C1HJwrsTMXnx"
      },
      "source": [
        "technology = technology.groupby('quest_id').sum()\n"
      ],
      "execution_count": null,
      "outputs": []
    },
    {
      "cell_type": "code",
      "metadata": {
        "id": "mbN_KdGc8sCv",
        "colab": {
          "base_uri": "https://localhost:8080/"
        },
        "outputId": "35c8a44c-c516-40bd-e939-40e08d23010b"
      },
      "source": [
        "# MERGE FILES\n",
        "df=pd.merge(left=quest[['gender',\t'dob',\t'commune','created_at','department','have_computer_home','internet_at_home','hear_AA_1','quest_id','education_level','study_domain','university']], right=enroll[['quest_id','percentage_completed','started_at']], how = 'left',on='quest_id')\n",
        "df1=pd.merge(left=df, right=study_domain, how = 'left',on='quest_id')\n",
        "df2=pd.merge(left=df1, right=technology, how = 'left',on='quest_id')\n",
        "df3=pd.merge(left=df2, right=industry, how = 'left',on='quest_id')\n",
        "df3.shape"
      ],
      "execution_count": null,
      "outputs": [
        {
          "output_type": "execute_result",
          "data": {
            "text/plain": [
              "(250, 49)"
            ]
          },
          "metadata": {
            "tags": []
          },
          "execution_count": 348
        }
      ]
    },
    {
      "cell_type": "code",
      "metadata": {
        "id": "zupfvE2dNRrZ"
      },
      "source": [
        "commune.rename(columns = {\"Commune_Id\": \"commune\"}, inplace = True)"
      ],
      "execution_count": null,
      "outputs": []
    },
    {
      "cell_type": "code",
      "metadata": {
        "id": "pES4Aa9MNmVj"
      },
      "source": [
        "commune[\"commune\"] = commune[\"commune\"].str.lower()"
      ],
      "execution_count": null,
      "outputs": []
    },
    {
      "cell_type": "code",
      "metadata": {
        "id": "DEBiEOa19G8h"
      },
      "source": [
        "df4=pd.merge(left=df3, right=commune[[\"Commune_FR\",\"Departement\", \"commune\"]], how = 'left',on='commune')\n",
        "df4.head(2)"
      ],
      "execution_count": null,
      "outputs": []
    },
    {
      "cell_type": "code",
      "metadata": {
        "id": "nIumRDPyJvRi"
      },
      "source": [
        "df4[\"created_at\"] = df4[\"created_at\"].str[:10]"
      ],
      "execution_count": null,
      "outputs": []
    },
    {
      "cell_type": "code",
      "metadata": {
        "id": "mlfFhUL39Vdo"
      },
      "source": [
        "dff = pd.merge(left=ord, right=transaction, how = 'left',on='user_id')"
      ],
      "execution_count": null,
      "outputs": []
    },
    {
      "cell_type": "code",
      "metadata": {
        "id": "jWwYLqDz9c_6"
      },
      "source": [
        "df5 = pd.merge(left=df4, right=dff, how = 'left',on='quest_id')"
      ],
      "execution_count": null,
      "outputs": []
    },
    {
      "cell_type": "code",
      "metadata": {
        "id": "tRLDFBZ5FA9k"
      },
      "source": [
        "#CHANGE DATE FORMAT\n",
        "df5[\"dob\"].replace({\"3 aout 1977\": \"3/08/1977\"}, inplace=True)\n",
        "df5[\"dob\"] = pd.to_datetime(df5[\"dob\"])\n",
        "df5.head(2)"
      ],
      "execution_count": null,
      "outputs": []
    },
    {
      "cell_type": "code",
      "metadata": {
        "id": "AugBCd_QFFul"
      },
      "source": [
        "df5[\"created_at\"] = pd.to_datetime(df5[\"created_at\"])"
      ],
      "execution_count": null,
      "outputs": []
    },
    {
      "cell_type": "code",
      "metadata": {
        "id": "6HgmUxgNFMkB"
      },
      "source": [
        "df5[\"age\"]=((df5[\"created_at\"]-df5[\"dob\"])//365)"
      ],
      "execution_count": null,
      "outputs": []
    },
    {
      "cell_type": "code",
      "metadata": {
        "id": "Wcta2BYxFO9U"
      },
      "source": [
        "df5[\"age\"] = df5[\"age\"].apply(lambda x: str(x)[:2])"
      ],
      "execution_count": null,
      "outputs": []
    },
    {
      "cell_type": "code",
      "metadata": {
        "id": "vOsvlttTau5N"
      },
      "source": [
        "#df5['age'] = (df5['age']) //365"
      ],
      "execution_count": null,
      "outputs": []
    },
    {
      "cell_type": "code",
      "metadata": {
        "id": "BQfVA4VtZDes"
      },
      "source": [
        "df5.head(2)"
      ],
      "execution_count": null,
      "outputs": []
    },
    {
      "cell_type": "code",
      "metadata": {
        "colab": {
          "base_uri": "https://localhost:8080/"
        },
        "id": "AiiHhDd-ZSLa",
        "outputId": "7fcb1c84-e287-4ebb-d972-0a034287d17b"
      },
      "source": [
        "df5.columns"
      ],
      "execution_count": null,
      "outputs": [
        {
          "output_type": "execute_result",
          "data": {
            "text/plain": [
              "Index(['gender', 'dob', 'Inscription_date', 'have_computer_home',\n",
              "       'internet_at_home', 'Means_of_communication', 'quest_id',\n",
              "       'education_level', 'university', 'percentage_completed', 'started_at',\n",
              "       'Accounting', 'Computer Science', 'Economics', 'Electrical Engineering',\n",
              "       'Law', 'Management', 'Medicine', 'Statistics', 'other_x', 'Bash',\n",
              "       'Excel', 'Git', 'Java', 'JavaScript', 'PHP', 'PowerBI or Tableau',\n",
              "       'Python', 'R', 'SQL', 'VBA', 'other_y', 'Communications', 'Consulting',\n",
              "       'Education', 'Energy', 'Finance', 'Healthcare', 'Insurance',\n",
              "       'Manufacturing', 'Marketing', 'Commune_FR', 'Departement',\n",
              "       'created_at_x', 'amount_dollars', 'created_at_y', 'transaction_id',\n",
              "       'age', 'male', 'female'],\n",
              "      dtype='object')"
            ]
          },
          "metadata": {
            "tags": []
          },
          "execution_count": 429
        }
      ]
    },
    {
      "cell_type": "code",
      "metadata": {
        "colab": {
          "base_uri": "https://localhost:8080/"
        },
        "id": "j8_8Thi7K4aB",
        "outputId": "0b5cbfb4-f0ad-48f9-971a-28df1d2a1eed"
      },
      "source": [
        "df5.shape"
      ],
      "execution_count": null,
      "outputs": [
        {
          "output_type": "execute_result",
          "data": {
            "text/plain": [
              "(250, 69)"
            ]
          },
          "metadata": {
            "tags": []
          },
          "execution_count": 362
        }
      ]
    },
    {
      "cell_type": "code",
      "metadata": {
        "id": "yzarz4FyMWEt"
      },
      "source": [
        "df5.head(3)"
      ],
      "execution_count": null,
      "outputs": []
    },
    {
      "cell_type": "code",
      "metadata": {
        "id": "BAFXgdynidN5"
      },
      "source": [
        "#DROP UNECESARRY COLUMNS, RENAME SOME AND REMOVE NAN COLUMNS\n",
        "df5.drop(['commune','Unnamed: 0_x','department','other','Unnamed: 0_y','user_id','product_name','other','modified_at','coupon_code','coupon_id','subscription','affiliate_referral_code','status','course_id','product_id','Transportation','Retail/ E-Commerce','Public Sector/ Non-Profit Agencies','Technology (Software/ Internet)','amount_cents','study_domain'], axis=1, inplace=True)"
      ],
      "execution_count": null,
      "outputs": []
    },
    {
      "cell_type": "code",
      "metadata": {
        "id": "kmubkm0tvnIH"
      },
      "source": [
        "df5.rename(columns={'created_at':'Inscription_date','hear_AA_1':'Means_of_communication'}, inplace=True)"
      ],
      "execution_count": null,
      "outputs": []
    },
    {
      "cell_type": "code",
      "metadata": {
        "id": "o9MFD1sP1mx_"
      },
      "source": [
        "df5"
      ],
      "execution_count": null,
      "outputs": []
    },
    {
      "cell_type": "code",
      "metadata": {
        "id": "TXbKy6Bf7TDz"
      },
      "source": [
        "#df5.created_at_x = df5['created_at_x'].fillna(value =df5.created_at_x.mean())"
      ],
      "execution_count": null,
      "outputs": []
    },
    {
      "cell_type": "code",
      "metadata": {
        "id": "BE4Zzs2IxvNt"
      },
      "source": [
        "df5.amount_dollars=df5[\"amount_dollars\"].fillna(value =df5.amount_dollars.mean())"
      ],
      "execution_count": null,
      "outputs": []
    },
    {
      "cell_type": "code",
      "metadata": {
        "id": "ACdTtybcDlY3"
      },
      "source": [
        "df5.amount_dollars"
      ],
      "execution_count": null,
      "outputs": []
    },
    {
      "cell_type": "code",
      "metadata": {
        "id": "f_ytcLrn0cHe"
      },
      "source": [
        "df5[df5.amount_dollars.isna()]"
      ],
      "execution_count": null,
      "outputs": []
    },
    {
      "cell_type": "code",
      "metadata": {
        "id": "NkGI2yyz2mlI"
      },
      "source": [
        "df5.transaction_id=df5['transaction_id'].fillna(value =df5.transaction_id.mean())"
      ],
      "execution_count": null,
      "outputs": []
    },
    {
      "cell_type": "code",
      "metadata": {
        "id": "REcf1-C228Ll"
      },
      "source": [
        "df5[df5.transaction_id.isna()]"
      ],
      "execution_count": null,
      "outputs": []
    },
    {
      "cell_type": "code",
      "metadata": {
        "id": "wwVhJxQ3Lh1B"
      },
      "source": [
        "df5.dob = df5['dob'].fillna(value =df5.dob.mean())"
      ],
      "execution_count": null,
      "outputs": []
    },
    {
      "cell_type": "code",
      "metadata": {
        "id": "tZc8gHJDL3mp"
      },
      "source": [
        "df5[df5.dob.isna()]"
      ],
      "execution_count": null,
      "outputs": []
    },
    {
      "cell_type": "code",
      "metadata": {
        "id": "rkehz-4q0sXh"
      },
      "source": [
        "df5.head(1)"
      ],
      "execution_count": null,
      "outputs": []
    },
    {
      "cell_type": "code",
      "metadata": {
        "colab": {
          "base_uri": "https://localhost:8080/"
        },
        "id": "LrVNiDGB92BH",
        "outputId": "7182cd3d-cbd4-4d2f-99cc-3ebbffcec2be"
      },
      "source": [
        "df5.shape"
      ],
      "execution_count": null,
      "outputs": [
        {
          "output_type": "execute_result",
          "data": {
            "text/plain": [
              "(250, 48)"
            ]
          },
          "metadata": {
            "tags": []
          },
          "execution_count": 376
        }
      ]
    },
    {
      "cell_type": "markdown",
      "metadata": {
        "id": "PQcXhoNQFEO_"
      },
      "source": [
        "#Data Visualization"
      ]
    },
    {
      "cell_type": "code",
      "metadata": {
        "id": "liSgoOULJjvp"
      },
      "source": [
        "df5.describe()"
      ],
      "execution_count": null,
      "outputs": []
    },
    {
      "cell_type": "code",
      "metadata": {
        "id": "_OSFu2edJYMW"
      },
      "source": [
        "#GENERATE A FUNCTION FOR THE GRAPHS AND CREATED PIVOT TABLE"
      ],
      "execution_count": null,
      "outputs": []
    },
    {
      "cell_type": "code",
      "metadata": {
        "id": "1nl6HOY3DNnE"
      },
      "source": [
        "def generate_barchart(data=df, title =\"\",abs_value =\"Total\",rel_value=\"Percent\",figsize =(10,6)):\n",
        "  plt.figure(figsize=figsize)\n",
        "  axes = sns.barplot(data=data,x=data.index,y=abs_value)\n",
        "  i=0\n",
        "  for tot, perc in zip(data[abs_value],data[rel_value]):\n",
        "    axes.text(i,\n",
        "           tot/2,\n",
        "              str(np.round(perc*100,2))+ \"%\",\n",
        "               fontdict=dict(color='yellow',fontsize=12,horizontalalignment=\"center\")\n",
        "              )\n",
        "    axes.text(i,\n",
        "           tot+10,\n",
        "              str(tot),\n",
        "               fontdict=dict(color='blue',fontsize=12,horizontalalignment=\"center\")\n",
        "              )\n",
        "    \n",
        "    i+=1\n",
        "  plt.title(title)\n",
        "  plt.show()"
      ],
      "execution_count": null,
      "outputs": []
    },
    {
      "cell_type": "code",
      "metadata": {
        "id": "PIMYwZMJFIWf"
      },
      "source": [
        "def prob_category(data,top_n =6,col=\"Pclass_letter\", abs_value =\"Total\",rel_value =\"Percent\",show_plot=False, title=\"\",figsize=(10,20)):\n",
        "   res1 = data[col].value_counts().to_frame()\n",
        "   res1.columns = [abs_value]\n",
        "\n",
        "   res2 = data[col].value_counts(normalize=True).to_frame()\n",
        "   res2.columns = [rel_value]\n",
        "   if  not show_plot:\n",
        "     return pd.concat([res1,res2],axis=1).head(top_n)\n",
        "   else:\n",
        "     df = pd.concat([res1,res2],axis=1).head(top_n)\n",
        "     generate_barchart(data= df, title= title, abs_value =abs_value, rel_value=rel_value, figsize = figsize)\n",
        "     return df"
      ],
      "execution_count": null,
      "outputs": []
    },
    {
      "cell_type": "code",
      "metadata": {
        "id": "NhdXNuhht2vl"
      },
      "source": [
        "pvtable1= pd.pivot_table(data=df5, values ='quest_id', index='Commune_FR', columns='gender', aggfunc='count',fill_value=0)"
      ],
      "execution_count": null,
      "outputs": []
    },
    {
      "cell_type": "code",
      "metadata": {
        "id": "SQe6biERuOGl"
      },
      "source": [
        "pvtable1"
      ],
      "execution_count": null,
      "outputs": []
    },
    {
      "cell_type": "code",
      "metadata": {
        "id": "bTFrC0VlvNii"
      },
      "source": [
        "pvtable2= pd.pivot_table(df5, values='quest_id', index='Commune_FR', columns='education_level', aggfunc='count',fill_value=0)"
      ],
      "execution_count": null,
      "outputs": []
    },
    {
      "cell_type": "code",
      "metadata": {
        "id": "oJmG5R04yK5E"
      },
      "source": [
        "pvtable2"
      ],
      "execution_count": null,
      "outputs": []
    },
    {
      "cell_type": "code",
      "metadata": {
        "id": "Dg3RVuxIyNuU"
      },
      "source": [
        "pvtable3= pd.pivot_table(df5, values='quest_id', index='Commune_FR', columns='internet_at_home', aggfunc='count',fill_value=0)"
      ],
      "execution_count": null,
      "outputs": []
    },
    {
      "cell_type": "code",
      "metadata": {
        "id": "zaRVuaDAzJ3Y"
      },
      "source": [
        "pvtable3"
      ],
      "execution_count": null,
      "outputs": []
    },
    {
      "cell_type": "code",
      "metadata": {
        "id": "bNli-F0RzOU5"
      },
      "source": [
        "pvtable4= pd.pivot_table(df5, values='quest_id', index='Commune_FR', columns='Means_of_communication', aggfunc='count',fill_value=0)"
      ],
      "execution_count": null,
      "outputs": []
    },
    {
      "cell_type": "code",
      "metadata": {
        "id": "20I5N_xkz2IM"
      },
      "source": [
        "pvtable4"
      ],
      "execution_count": null,
      "outputs": []
    },
    {
      "cell_type": "code",
      "metadata": {
        "id": "bZTVR1IPE-Q-"
      },
      "source": [
        "pvtable5= pd.pivot_table(df5, values='quest_id', index='gender', columns='Means_of_communication', aggfunc='count',fill_value=0)"
      ],
      "execution_count": null,
      "outputs": []
    },
    {
      "cell_type": "code",
      "metadata": {
        "id": "03AUDI1sQtmn"
      },
      "source": [
        "pvtable6= pd.pivot_table(df5, values='quest_id', index='gender', columns='education_level', aggfunc='count',fill_value=0)"
      ],
      "execution_count": null,
      "outputs": []
    },
    {
      "cell_type": "code",
      "metadata": {
        "id": "I0ZS6xd9R3HT"
      },
      "source": [
        "pvtable6"
      ],
      "execution_count": null,
      "outputs": []
    },
    {
      "cell_type": "code",
      "metadata": {
        "id": "2tZehKJb1jdN"
      },
      "source": [
        "pvtable7= pd.pivot_table(data=df5, index='Commune_FR', columns='internet_at_home', values='quest_id', aggfunc='count',fill_value=0)"
      ],
      "execution_count": null,
      "outputs": []
    },
    {
      "cell_type": "code",
      "metadata": {
        "id": "PkOXmfJN_HuC"
      },
      "source": [
        "pvtable7"
      ],
      "execution_count": null,
      "outputs": []
    },
    {
      "cell_type": "code",
      "metadata": {
        "id": "tjBLUrvl6SHu"
      },
      "source": [
        "pvtable8= pd.pivot_table(data=df5, index='Commune_FR', columns='have_computer_home', values='quest_id', aggfunc='count',fill_value=0)"
      ],
      "execution_count": null,
      "outputs": []
    },
    {
      "cell_type": "code",
      "metadata": {
        "id": "Lf10bNvT_K4q"
      },
      "source": [
        "pvtable8"
      ],
      "execution_count": null,
      "outputs": []
    },
    {
      "cell_type": "code",
      "metadata": {
        "id": "xOVAuD5KD4gs"
      },
      "source": [
        "df5.describe()"
      ],
      "execution_count": null,
      "outputs": []
    },
    {
      "cell_type": "code",
      "metadata": {
        "id": "WhfkEULm-1pK",
        "colab": {
          "base_uri": "https://localhost:8080/",
          "height": 369
        },
        "outputId": "531a2ea8-2d15-4822-b675-85328ffb0c42"
      },
      "source": [
        "#Make a matplotlib to show total and percent\n",
        "prob_category(data=df5 ,col=\"gender\", show_plot=True, figsize=(10,4))"
      ],
      "execution_count": null,
      "outputs": [
        {
          "output_type": "display_data",
          "data": {
            "image/png": "[encoded data removed]",
            "text/plain": [
              "<Figure size 720x288 with 1 Axes>"
            ]
          },
          "metadata": {
            "tags": [],
            "needs_background": "light"
          }
        },
        {
          "output_type": "execute_result",
          "data": {
            "text/html": [
              "<div>\n",
              "<style scoped>\n",
              "    .dataframe tbody tr th:only-of-type {\n",
              "        vertical-align: middle;\n",
              "    }\n",
              "\n",
              "    .dataframe tbody tr th {\n",
              "        vertical-align: top;\n",
              "    }\n",
              "\n",
              "    .dataframe thead th {\n",
              "        text-align: right;\n",
              "    }\n",
              "</style>\n",
              "<table border=\"1\" class=\"dataframe\">\n",
              "  <thead>\n",
              "    <tr style=\"text-align: right;\">\n",
              "      <th></th>\n",
              "      <th>Total</th>\n",
              "      <th>Percent</th>\n",
              "    </tr>\n",
              "  </thead>\n",
              "  <tbody>\n",
              "    <tr>\n",
              "      <th>male</th>\n",
              "      <td>203</td>\n",
              "      <td>0.812</td>\n",
              "    </tr>\n",
              "    <tr>\n",
              "      <th>female</th>\n",
              "      <td>47</td>\n",
              "      <td>0.188</td>\n",
              "    </tr>\n",
              "  </tbody>\n",
              "</table>\n",
              "</div>"
            ],
            "text/plain": [
              "        Total  Percent\n",
              "male      203    0.812\n",
              "female     47    0.188"
            ]
          },
          "metadata": {
            "tags": []
          },
          "execution_count": 397
        }
      ]
    },
    {
      "cell_type": "code",
      "metadata": {
        "id": "m2UWI9Z6M9G9",
        "colab": {
          "base_uri": "https://localhost:8080/",
          "height": 512
        },
        "outputId": "b15101f8-f597-424e-b5d1-21e9e362bded"
      },
      "source": [
        "prob_category(data= df5, col='Commune_FR', show_plot=True, figsize=(10,4))"
      ],
      "execution_count": null,
      "outputs": [
        {
          "output_type": "display_data",
          "data": {
            "image/png": "[encoded data removed]",
            "text/plain": [
              "<Figure size 720x288 with 1 Axes>"
            ]
          },
          "metadata": {
            "tags": [],
            "needs_background": "light"
          }
        },
        {
          "output_type": "execute_result",
          "data": {
            "text/html": [
              "<div>\n",
              "<style scoped>\n",
              "    .dataframe tbody tr th:only-of-type {\n",
              "        vertical-align: middle;\n",
              "    }\n",
              "\n",
              "    .dataframe tbody tr th {\n",
              "        vertical-align: top;\n",
              "    }\n",
              "\n",
              "    .dataframe thead th {\n",
              "        text-align: right;\n",
              "    }\n",
              "</style>\n",
              "<table border=\"1\" class=\"dataframe\">\n",
              "  <thead>\n",
              "    <tr style=\"text-align: right;\">\n",
              "      <th></th>\n",
              "      <th>Total</th>\n",
              "      <th>Percent</th>\n",
              "    </tr>\n",
              "  </thead>\n",
              "  <tbody>\n",
              "    <tr>\n",
              "      <th>Delmas</th>\n",
              "      <td>71</td>\n",
              "      <td>0.284</td>\n",
              "    </tr>\n",
              "    <tr>\n",
              "      <th>Port-au-Prince</th>\n",
              "      <td>59</td>\n",
              "      <td>0.236</td>\n",
              "    </tr>\n",
              "    <tr>\n",
              "      <th>Pétion-Ville</th>\n",
              "      <td>29</td>\n",
              "      <td>0.116</td>\n",
              "    </tr>\n",
              "    <tr>\n",
              "      <th>Carrefour</th>\n",
              "      <td>23</td>\n",
              "      <td>0.092</td>\n",
              "    </tr>\n",
              "    <tr>\n",
              "      <th>Tabarre</th>\n",
              "      <td>11</td>\n",
              "      <td>0.044</td>\n",
              "    </tr>\n",
              "    <tr>\n",
              "      <th>Croix-Des-Bouquets</th>\n",
              "      <td>10</td>\n",
              "      <td>0.040</td>\n",
              "    </tr>\n",
              "  </tbody>\n",
              "</table>\n",
              "</div>"
            ],
            "text/plain": [
              "                    Total  Percent\n",
              "Delmas                 71    0.284\n",
              "Port-au-Prince         59    0.236\n",
              "Pétion-Ville           29    0.116\n",
              "Carrefour              23    0.092\n",
              "Tabarre                11    0.044\n",
              "Croix-Des-Bouquets     10    0.040"
            ]
          },
          "metadata": {
            "tags": []
          },
          "execution_count": 398
        }
      ]
    },
    {
      "cell_type": "code",
      "metadata": {
        "id": "kDybC-yoNVdI",
        "colab": {
          "base_uri": "https://localhost:8080/",
          "height": 400
        },
        "outputId": "ac5f08b7-2945-4c27-8015-0ee73bb5d49e"
      },
      "source": [
        "prob_category(data=df5, col='internet_at_home', show_plot=True, figsize= (10,4))"
      ],
      "execution_count": null,
      "outputs": [
        {
          "output_type": "display_data",
          "data": {
            "image/png": "[encoded data removed]",
            "text/plain": [
              "<Figure size 720x288 with 1 Axes>"
            ]
          },
          "metadata": {
            "tags": [],
            "needs_background": "light"
          }
        },
        {
          "output_type": "execute_result",
          "data": {
            "text/html": [
              "<div>\n",
              "<style scoped>\n",
              "    .dataframe tbody tr th:only-of-type {\n",
              "        vertical-align: middle;\n",
              "    }\n",
              "\n",
              "    .dataframe tbody tr th {\n",
              "        vertical-align: top;\n",
              "    }\n",
              "\n",
              "    .dataframe thead th {\n",
              "        text-align: right;\n",
              "    }\n",
              "</style>\n",
              "<table border=\"1\" class=\"dataframe\">\n",
              "  <thead>\n",
              "    <tr style=\"text-align: right;\">\n",
              "      <th></th>\n",
              "      <th>Total</th>\n",
              "      <th>Percent</th>\n",
              "    </tr>\n",
              "  </thead>\n",
              "  <tbody>\n",
              "    <tr>\n",
              "      <th>Yes</th>\n",
              "      <td>210</td>\n",
              "      <td>0.840</td>\n",
              "    </tr>\n",
              "    <tr>\n",
              "      <th>No</th>\n",
              "      <td>38</td>\n",
              "      <td>0.152</td>\n",
              "    </tr>\n",
              "    <tr>\n",
              "      <th>unknown</th>\n",
              "      <td>2</td>\n",
              "      <td>0.008</td>\n",
              "    </tr>\n",
              "  </tbody>\n",
              "</table>\n",
              "</div>"
            ],
            "text/plain": [
              "         Total  Percent\n",
              "Yes        210    0.840\n",
              "No          38    0.152\n",
              "unknown      2    0.008"
            ]
          },
          "metadata": {
            "tags": []
          },
          "execution_count": 399
        }
      ]
    },
    {
      "cell_type": "code",
      "metadata": {
        "id": "vB9SHpzup5M4",
        "colab": {
          "base_uri": "https://localhost:8080/",
          "height": 497
        },
        "outputId": "3b4ba040-d3aa-4c34-b8a2-d141a6a55f68"
      },
      "source": [
        "prob_category(data=df5, col='education_level', show_plot=True, figsize= (10,4))"
      ],
      "execution_count": null,
      "outputs": [
        {
          "output_type": "display_data",
          "data": {
            "image/png": "[encoded data removed]",
            "text/plain": [
              "<Figure size 720x288 with 1 Axes>"
            ]
          },
          "metadata": {
            "tags": [],
            "needs_background": "light"
          }
        },
        {
          "output_type": "execute_result",
          "data": {
            "text/html": [
              "<div>\n",
              "<style scoped>\n",
              "    .dataframe tbody tr th:only-of-type {\n",
              "        vertical-align: middle;\n",
              "    }\n",
              "\n",
              "    .dataframe tbody tr th {\n",
              "        vertical-align: top;\n",
              "    }\n",
              "\n",
              "    .dataframe thead th {\n",
              "        text-align: right;\n",
              "    }\n",
              "</style>\n",
              "<table border=\"1\" class=\"dataframe\">\n",
              "  <thead>\n",
              "    <tr style=\"text-align: right;\">\n",
              "      <th></th>\n",
              "      <th>Total</th>\n",
              "      <th>Percent</th>\n",
              "    </tr>\n",
              "  </thead>\n",
              "  <tbody>\n",
              "    <tr>\n",
              "      <th>Bachelors (bacc +4)</th>\n",
              "      <td>148</td>\n",
              "      <td>0.592</td>\n",
              "    </tr>\n",
              "    <tr>\n",
              "      <th>Other</th>\n",
              "      <td>51</td>\n",
              "      <td>0.204</td>\n",
              "    </tr>\n",
              "    <tr>\n",
              "      <th>High School (16 years)</th>\n",
              "      <td>33</td>\n",
              "      <td>0.132</td>\n",
              "    </tr>\n",
              "    <tr>\n",
              "      <th>Masters</th>\n",
              "      <td>14</td>\n",
              "      <td>0.056</td>\n",
              "    </tr>\n",
              "    <tr>\n",
              "      <th>unknown</th>\n",
              "      <td>3</td>\n",
              "      <td>0.012</td>\n",
              "    </tr>\n",
              "    <tr>\n",
              "      <th>Doctorate (PhD, MD, JD)</th>\n",
              "      <td>1</td>\n",
              "      <td>0.004</td>\n",
              "    </tr>\n",
              "  </tbody>\n",
              "</table>\n",
              "</div>"
            ],
            "text/plain": [
              "                         Total  Percent\n",
              "Bachelors (bacc +4)        148    0.592\n",
              "Other                       51    0.204\n",
              "High School (16 years)      33    0.132\n",
              "Masters                     14    0.056\n",
              "unknown                      3    0.012\n",
              "Doctorate (PhD, MD, JD)      1    0.004"
            ]
          },
          "metadata": {
            "tags": []
          },
          "execution_count": 401
        }
      ]
    },
    {
      "cell_type": "markdown",
      "metadata": {
        "id": "rxUnOMZWn7LK"
      },
      "source": [
        "."
      ]
    },
    {
      "cell_type": "markdown",
      "metadata": {
        "id": "tdGaTbFBBD6e"
      },
      "source": [
        "."
      ]
    },
    {
      "cell_type": "markdown",
      "metadata": {
        "id": "AUkSGgi0zpKz"
      },
      "source": [
        "##1.Let's see the most effective communication channels that will allow a student to be susceptible to selection.\n"
      ]
    },
    {
      "cell_type": "code",
      "metadata": {
        "id": "NEYlYUuu0AbR",
        "colab": {
          "base_uri": "https://localhost:8080/",
          "height": 638
        },
        "outputId": "862da312-d4fa-42ad-d522-b379a272d5d9"
      },
      "source": [
        "#Make a matplotlib figure to show the most communication channels to be susceptible to selection\n",
        "prob_category(data=df5,top_n=10, col='Means_of_communication', show_plot=True, figsize= (12,4), title='Means of Communication')"
      ],
      "execution_count": null,
      "outputs": [
        {
          "output_type": "display_data",
          "data": {
            "image/png": "[encoded data removed]",
            "text/plain": [
              "<Figure size 864x288 with 1 Axes>"
            ]
          },
          "metadata": {
            "tags": [],
            "needs_background": "light"
          }
        },
        {
          "output_type": "execute_result",
          "data": {
            "text/html": [
              "<div>\n",
              "<style scoped>\n",
              "    .dataframe tbody tr th:only-of-type {\n",
              "        vertical-align: middle;\n",
              "    }\n",
              "\n",
              "    .dataframe tbody tr th {\n",
              "        vertical-align: top;\n",
              "    }\n",
              "\n",
              "    .dataframe thead th {\n",
              "        text-align: right;\n",
              "    }\n",
              "</style>\n",
              "<table border=\"1\" class=\"dataframe\">\n",
              "  <thead>\n",
              "    <tr style=\"text-align: right;\">\n",
              "      <th></th>\n",
              "      <th>Total</th>\n",
              "      <th>Percent</th>\n",
              "    </tr>\n",
              "  </thead>\n",
              "  <tbody>\n",
              "    <tr>\n",
              "      <th>Friend</th>\n",
              "      <td>67</td>\n",
              "      <td>0.268</td>\n",
              "    </tr>\n",
              "    <tr>\n",
              "      <th>WhatsApp</th>\n",
              "      <td>66</td>\n",
              "      <td>0.264</td>\n",
              "    </tr>\n",
              "    <tr>\n",
              "      <th>Facebook</th>\n",
              "      <td>40</td>\n",
              "      <td>0.160</td>\n",
              "    </tr>\n",
              "    <tr>\n",
              "      <th>ESIH</th>\n",
              "      <td>18</td>\n",
              "      <td>0.072</td>\n",
              "    </tr>\n",
              "    <tr>\n",
              "      <th>Ayiti Analytics Website</th>\n",
              "      <td>15</td>\n",
              "      <td>0.060</td>\n",
              "    </tr>\n",
              "    <tr>\n",
              "      <th>LinkedIn</th>\n",
              "      <td>15</td>\n",
              "      <td>0.060</td>\n",
              "    </tr>\n",
              "    <tr>\n",
              "      <th>Bootcamp Alumni</th>\n",
              "      <td>14</td>\n",
              "      <td>0.056</td>\n",
              "    </tr>\n",
              "    <tr>\n",
              "      <th>other</th>\n",
              "      <td>9</td>\n",
              "      <td>0.036</td>\n",
              "    </tr>\n",
              "    <tr>\n",
              "      <th>Instagram</th>\n",
              "      <td>5</td>\n",
              "      <td>0.020</td>\n",
              "    </tr>\n",
              "    <tr>\n",
              "      <th>unknown</th>\n",
              "      <td>1</td>\n",
              "      <td>0.004</td>\n",
              "    </tr>\n",
              "  </tbody>\n",
              "</table>\n",
              "</div>"
            ],
            "text/plain": [
              "                         Total  Percent\n",
              "Friend                      67    0.268\n",
              "WhatsApp                    66    0.264\n",
              "Facebook                    40    0.160\n",
              "ESIH                        18    0.072\n",
              "Ayiti Analytics Website     15    0.060\n",
              "LinkedIn                    15    0.060\n",
              "Bootcamp Alumni             14    0.056\n",
              "other                        9    0.036\n",
              "Instagram                    5    0.020\n",
              "unknown                      1    0.004"
            ]
          },
          "metadata": {
            "tags": []
          },
          "execution_count": 402
        }
      ]
    },
    {
      "cell_type": "markdown",
      "metadata": {
        "id": "DjIh6cfD7hjx"
      },
      "source": [
        "The percentage of communication channels most likely for a candidate to be selected are Friend, WhatsApp and Facebook"
      ]
    },
    {
      "cell_type": "markdown",
      "metadata": {
        "id": "83ABApVc_NWs"
      },
      "source": [
        "."
      ]
    },
    {
      "cell_type": "markdown",
      "metadata": {
        "id": "Cx13Gvol_b8B"
      },
      "source": [
        "##2.Let's see the average number of university students who should participate in this program."
      ]
    },
    {
      "cell_type": "code",
      "metadata": {
        "colab": {
          "base_uri": "https://localhost:8080/",
          "height": 266
        },
        "id": "TIUwaGmQ_0Fq",
        "outputId": "56937b59-3c9c-4caa-ffbf-0689c046a282"
      },
      "source": [
        "university_percent =df5.university.value_counts(normalize=True).to_frame()\n",
        "university_percent\n",
        "university_total = df5.university.value_counts(normalize=False).to_frame()\n",
        "university_total\n",
        "university_total.rename(columns={'university':'Total'},inplace=True)\n",
        "university_total.rename(columns={'university': 'Total'},inplace=True)\n",
        "university_percent.rename(columns={'university': 'Percent'}, inplace=True)\n",
        "university_per_tot= pd.concat([university_total ,university_percent], axis=1)\n",
        "university_per_tot"
      ],
      "execution_count": null,
      "outputs": [
        {
          "output_type": "execute_result",
          "data": {
            "text/html": [
              "<div>\n",
              "<style scoped>\n",
              "    .dataframe tbody tr th:only-of-type {\n",
              "        vertical-align: middle;\n",
              "    }\n",
              "\n",
              "    .dataframe tbody tr th {\n",
              "        vertical-align: top;\n",
              "    }\n",
              "\n",
              "    .dataframe thead th {\n",
              "        text-align: right;\n",
              "    }\n",
              "</style>\n",
              "<table border=\"1\" class=\"dataframe\">\n",
              "  <thead>\n",
              "    <tr style=\"text-align: right;\">\n",
              "      <th></th>\n",
              "      <th>Total</th>\n",
              "      <th>Percent</th>\n",
              "    </tr>\n",
              "  </thead>\n",
              "  <tbody>\n",
              "    <tr>\n",
              "      <th>unknown</th>\n",
              "      <td>95</td>\n",
              "      <td>0.380</td>\n",
              "    </tr>\n",
              "    <tr>\n",
              "      <th>other</th>\n",
              "      <td>55</td>\n",
              "      <td>0.220</td>\n",
              "    </tr>\n",
              "    <tr>\n",
              "      <th>Université d'Etat d'Haïti (UEH)</th>\n",
              "      <td>39</td>\n",
              "      <td>0.156</td>\n",
              "    </tr>\n",
              "    <tr>\n",
              "      <th>Ecole Supérieure d'Infotronique d'Haïti (ESIH)</th>\n",
              "      <td>27</td>\n",
              "      <td>0.108</td>\n",
              "    </tr>\n",
              "    <tr>\n",
              "      <th>Centre de Techniques de Planification et d'Economie Appliquée (CTPEA)</th>\n",
              "      <td>16</td>\n",
              "      <td>0.064</td>\n",
              "    </tr>\n",
              "    <tr>\n",
              "      <th>Université INUKA</th>\n",
              "      <td>14</td>\n",
              "      <td>0.056</td>\n",
              "    </tr>\n",
              "    <tr>\n",
              "      <th>Quisqueya University</th>\n",
              "      <td>4</td>\n",
              "      <td>0.016</td>\n",
              "    </tr>\n",
              "  </tbody>\n",
              "</table>\n",
              "</div>"
            ],
            "text/plain": [
              "                                                    Total  Percent\n",
              "unknown                                                95    0.380\n",
              "other                                                  55    0.220\n",
              "Université d'Etat d'Haïti (UEH)                        39    0.156\n",
              "Ecole Supérieure d'Infotronique d'Haïti (ESIH)         27    0.108\n",
              "Centre de Techniques de Planification et d'Econ...     16    0.064\n",
              "Université INUKA                                       14    0.056\n",
              "Quisqueya University                                    4    0.016"
            ]
          },
          "metadata": {
            "tags": []
          },
          "execution_count": 403
        }
      ]
    },
    {
      "cell_type": "code",
      "metadata": {
        "colab": {
          "base_uri": "https://localhost:8080/"
        },
        "id": "-eySlJHKwZUq",
        "outputId": "82bb0971-3bd2-48b4-c395-e6ff77746704"
      },
      "source": [
        "df5.university.value_counts()"
      ],
      "execution_count": null,
      "outputs": [
        {
          "output_type": "execute_result",
          "data": {
            "text/plain": [
              "unknown                                                                  95\n",
              "other                                                                    55\n",
              "Université d'Etat d'Haïti (UEH)                                          39\n",
              "Ecole Supérieure d'Infotronique d'Haïti (ESIH)                           27\n",
              "Centre de Techniques de Planification et d'Economie Appliquée (CTPEA)    16\n",
              "Université INUKA                                                         14\n",
              "Quisqueya University                                                      4\n",
              "Name: university, dtype: int64"
            ]
          },
          "metadata": {
            "tags": []
          },
          "execution_count": 404
        }
      ]
    },
    {
      "cell_type": "code",
      "metadata": {
        "id": "GO4qoLi1GLiX",
        "colab": {
          "base_uri": "https://localhost:8080/",
          "height": 402
        },
        "outputId": "7b71b98f-b4cb-4d64-dc07-39f583931579"
      },
      "source": [
        "generate_barchart(data=university_per_tot, title='Level of university',abs_value='Total', rel_value='Percent')"
      ],
      "execution_count": null,
      "outputs": [
        {
          "output_type": "display_data",
          "data": {
            "image/png": "[encoded data removed]",
            "text/plain": [
              "<Figure size 720x432 with 1 Axes>"
            ]
          },
          "metadata": {
            "tags": [],
            "needs_background": "light"
          }
        }
      ]
    },
    {
      "cell_type": "code",
      "metadata": {
        "colab": {
          "base_uri": "https://localhost:8080/"
        },
        "id": "NMkVAbG_wuAc",
        "outputId": "16f7ef45-07a0-4c41-e638-382928d93b8b"
      },
      "source": [
        "df5.education_level.value_counts()"
      ],
      "execution_count": null,
      "outputs": [
        {
          "output_type": "execute_result",
          "data": {
            "text/plain": [
              "Bachelors (bacc +4)        148\n",
              "Other                       51\n",
              "High School (16 years)      33\n",
              "Masters                     14\n",
              "unknown                      3\n",
              "Doctorate (PhD, MD, JD)      1\n",
              "Name: education_level, dtype: int64"
            ]
          },
          "metadata": {
            "tags": []
          },
          "execution_count": 406
        }
      ]
    },
    {
      "cell_type": "code",
      "metadata": {
        "colab": {
          "base_uri": "https://localhost:8080/",
          "height": 497
        },
        "id": "YndfC42NxwwS",
        "outputId": "3926c168-e04d-4c45-9b4b-5adb3ea1f315"
      },
      "source": [
        "prob_category(data=df5, col='education_level', show_plot=True, figsize= (10,4))"
      ],
      "execution_count": null,
      "outputs": [
        {
          "output_type": "display_data",
          "data": {
            "image/png": "[encoded data removed]",
            "text/plain": [
              "<Figure size 720x288 with 1 Axes>"
            ]
          },
          "metadata": {
            "tags": [],
            "needs_background": "light"
          }
        },
        {
          "output_type": "execute_result",
          "data": {
            "text/html": [
              "<div>\n",
              "<style scoped>\n",
              "    .dataframe tbody tr th:only-of-type {\n",
              "        vertical-align: middle;\n",
              "    }\n",
              "\n",
              "    .dataframe tbody tr th {\n",
              "        vertical-align: top;\n",
              "    }\n",
              "\n",
              "    .dataframe thead th {\n",
              "        text-align: right;\n",
              "    }\n",
              "</style>\n",
              "<table border=\"1\" class=\"dataframe\">\n",
              "  <thead>\n",
              "    <tr style=\"text-align: right;\">\n",
              "      <th></th>\n",
              "      <th>Total</th>\n",
              "      <th>Percent</th>\n",
              "    </tr>\n",
              "  </thead>\n",
              "  <tbody>\n",
              "    <tr>\n",
              "      <th>Bachelors (bacc +4)</th>\n",
              "      <td>148</td>\n",
              "      <td>0.592</td>\n",
              "    </tr>\n",
              "    <tr>\n",
              "      <th>Other</th>\n",
              "      <td>51</td>\n",
              "      <td>0.204</td>\n",
              "    </tr>\n",
              "    <tr>\n",
              "      <th>High School (16 years)</th>\n",
              "      <td>33</td>\n",
              "      <td>0.132</td>\n",
              "    </tr>\n",
              "    <tr>\n",
              "      <th>Masters</th>\n",
              "      <td>14</td>\n",
              "      <td>0.056</td>\n",
              "    </tr>\n",
              "    <tr>\n",
              "      <th>unknown</th>\n",
              "      <td>3</td>\n",
              "      <td>0.012</td>\n",
              "    </tr>\n",
              "    <tr>\n",
              "      <th>Doctorate (PhD, MD, JD)</th>\n",
              "      <td>1</td>\n",
              "      <td>0.004</td>\n",
              "    </tr>\n",
              "  </tbody>\n",
              "</table>\n",
              "</div>"
            ],
            "text/plain": [
              "                         Total  Percent\n",
              "Bachelors (bacc +4)        148    0.592\n",
              "Other                       51    0.204\n",
              "High School (16 years)      33    0.132\n",
              "Masters                     14    0.056\n",
              "unknown                      3    0.012\n",
              "Doctorate (PhD, MD, JD)      1    0.004"
            ]
          },
          "metadata": {
            "tags": []
          },
          "execution_count": 407
        }
      ]
    },
    {
      "cell_type": "markdown",
      "metadata": {
        "id": "3qo98q3y0t5k"
      },
      "source": [
        "."
      ]
    },
    {
      "cell_type": "code",
      "metadata": {
        "id": "u73TGgGHIqH_"
      },
      "source": [
        ""
      ],
      "execution_count": null,
      "outputs": []
    },
    {
      "cell_type": "markdown",
      "metadata": {
        "id": "jLw6ONmlVZK0"
      },
      "source": [
        "##3.Let's know what will be the average number of applications per week that we could have."
      ]
    },
    {
      "cell_type": "code",
      "metadata": {
        "id": "njiTzWbncJXc"
      },
      "source": [
        "df5['Inscription_date'] = pd.to_datetime(df5['Inscription_date'])"
      ],
      "execution_count": null,
      "outputs": []
    },
    {
      "cell_type": "code",
      "metadata": {
        "id": "1TfEFKe8ZN0D"
      },
      "source": [
        "df5['male']= df5['gender'].apply(lambda x: 1 if x == 'male' else 0)"
      ],
      "execution_count": null,
      "outputs": []
    },
    {
      "cell_type": "code",
      "metadata": {
        "id": "qfRkvTo5Z7-0"
      },
      "source": [
        "df5['female'] = df5['gender'].apply(lambda x: 1 if x == 'female' else 0)"
      ],
      "execution_count": null,
      "outputs": []
    },
    {
      "cell_type": "code",
      "metadata": {
        "id": "ponns4urap0S",
        "colab": {
          "base_uri": "https://localhost:8080/",
          "height": 235
        },
        "outputId": "6205ab55-1151-402c-ca22-bb1bf1631685"
      },
      "source": [
        "registration_date= df5[['Inscription_date','quest_id','male','female']].groupby(pd.Grouper(key='Inscription_date', freq='7D')).sum()\n",
        "registration_date.head()"
      ],
      "execution_count": null,
      "outputs": [
        {
          "output_type": "execute_result",
          "data": {
            "text/html": [
              "<div>\n",
              "<style scoped>\n",
              "    .dataframe tbody tr th:only-of-type {\n",
              "        vertical-align: middle;\n",
              "    }\n",
              "\n",
              "    .dataframe tbody tr th {\n",
              "        vertical-align: top;\n",
              "    }\n",
              "\n",
              "    .dataframe thead th {\n",
              "        text-align: right;\n",
              "    }\n",
              "</style>\n",
              "<table border=\"1\" class=\"dataframe\">\n",
              "  <thead>\n",
              "    <tr style=\"text-align: right;\">\n",
              "      <th></th>\n",
              "      <th>male</th>\n",
              "      <th>female</th>\n",
              "    </tr>\n",
              "    <tr>\n",
              "      <th>Inscription_date</th>\n",
              "      <th></th>\n",
              "      <th></th>\n",
              "    </tr>\n",
              "  </thead>\n",
              "  <tbody>\n",
              "    <tr>\n",
              "      <th>2021-02-14</th>\n",
              "      <td>108</td>\n",
              "      <td>28</td>\n",
              "    </tr>\n",
              "    <tr>\n",
              "      <th>2021-02-21</th>\n",
              "      <td>41</td>\n",
              "      <td>13</td>\n",
              "    </tr>\n",
              "    <tr>\n",
              "      <th>2021-02-28</th>\n",
              "      <td>26</td>\n",
              "      <td>3</td>\n",
              "    </tr>\n",
              "    <tr>\n",
              "      <th>2021-03-07</th>\n",
              "      <td>26</td>\n",
              "      <td>3</td>\n",
              "    </tr>\n",
              "    <tr>\n",
              "      <th>2021-03-14</th>\n",
              "      <td>2</td>\n",
              "      <td>0</td>\n",
              "    </tr>\n",
              "  </tbody>\n",
              "</table>\n",
              "</div>"
            ],
            "text/plain": [
              "                  male  female\n",
              "Inscription_date              \n",
              "2021-02-14         108      28\n",
              "2021-02-21          41      13\n",
              "2021-02-28          26       3\n",
              "2021-03-07          26       3\n",
              "2021-03-14           2       0"
            ]
          },
          "metadata": {
            "tags": []
          },
          "execution_count": 411
        }
      ]
    },
    {
      "cell_type": "code",
      "metadata": {
        "id": "PAeaM36_b69N",
        "colab": {
          "base_uri": "https://localhost:8080/",
          "height": 235
        },
        "outputId": "77339853-bca0-47ee-d662-4978a519fdff"
      },
      "source": [
        "#Show percent \n",
        "Prcent_regist= registration_date/df5.shape[0]\n",
        "Prcent_regist"
      ],
      "execution_count": null,
      "outputs": [
        {
          "output_type": "execute_result",
          "data": {
            "text/html": [
              "<div>\n",
              "<style scoped>\n",
              "    .dataframe tbody tr th:only-of-type {\n",
              "        vertical-align: middle;\n",
              "    }\n",
              "\n",
              "    .dataframe tbody tr th {\n",
              "        vertical-align: top;\n",
              "    }\n",
              "\n",
              "    .dataframe thead th {\n",
              "        text-align: right;\n",
              "    }\n",
              "</style>\n",
              "<table border=\"1\" class=\"dataframe\">\n",
              "  <thead>\n",
              "    <tr style=\"text-align: right;\">\n",
              "      <th></th>\n",
              "      <th>male</th>\n",
              "      <th>female</th>\n",
              "    </tr>\n",
              "    <tr>\n",
              "      <th>Inscription_date</th>\n",
              "      <th></th>\n",
              "      <th></th>\n",
              "    </tr>\n",
              "  </thead>\n",
              "  <tbody>\n",
              "    <tr>\n",
              "      <th>2021-02-14</th>\n",
              "      <td>0.432</td>\n",
              "      <td>0.112</td>\n",
              "    </tr>\n",
              "    <tr>\n",
              "      <th>2021-02-21</th>\n",
              "      <td>0.164</td>\n",
              "      <td>0.052</td>\n",
              "    </tr>\n",
              "    <tr>\n",
              "      <th>2021-02-28</th>\n",
              "      <td>0.104</td>\n",
              "      <td>0.012</td>\n",
              "    </tr>\n",
              "    <tr>\n",
              "      <th>2021-03-07</th>\n",
              "      <td>0.104</td>\n",
              "      <td>0.012</td>\n",
              "    </tr>\n",
              "    <tr>\n",
              "      <th>2021-03-14</th>\n",
              "      <td>0.008</td>\n",
              "      <td>0.000</td>\n",
              "    </tr>\n",
              "  </tbody>\n",
              "</table>\n",
              "</div>"
            ],
            "text/plain": [
              "                   male  female\n",
              "Inscription_date               \n",
              "2021-02-14        0.432   0.112\n",
              "2021-02-21        0.164   0.052\n",
              "2021-02-28        0.104   0.012\n",
              "2021-03-07        0.104   0.012\n",
              "2021-03-14        0.008   0.000"
            ]
          },
          "metadata": {
            "tags": []
          },
          "execution_count": 412
        }
      ]
    },
    {
      "cell_type": "code",
      "metadata": {
        "id": "EMfIJiWne1wB",
        "colab": {
          "base_uri": "https://localhost:8080/",
          "height": 235
        },
        "outputId": "e073a407-6b83-4698-841f-66be588edc1e"
      },
      "source": [
        "registration_data =df5[[\"Inscription_date\",\"quest_id\", \"female\",\"male\"]].groupby(pd.Grouper(key=\"Inscription_date\",freq='7D')).sum()\n",
        "registration_data\n",
        "registration_data['sum']=registration_data['male']+registration_data['female']\n",
        "registration_data.head()\n",
        "registration_data['frequencies']=registration_data['sum']/df5.shape[0]\n",
        "registration_data"
      ],
      "execution_count": null,
      "outputs": [
        {
          "output_type": "execute_result",
          "data": {
            "text/html": [
              "<div>\n",
              "<style scoped>\n",
              "    .dataframe tbody tr th:only-of-type {\n",
              "        vertical-align: middle;\n",
              "    }\n",
              "\n",
              "    .dataframe tbody tr th {\n",
              "        vertical-align: top;\n",
              "    }\n",
              "\n",
              "    .dataframe thead th {\n",
              "        text-align: right;\n",
              "    }\n",
              "</style>\n",
              "<table border=\"1\" class=\"dataframe\">\n",
              "  <thead>\n",
              "    <tr style=\"text-align: right;\">\n",
              "      <th></th>\n",
              "      <th>female</th>\n",
              "      <th>male</th>\n",
              "      <th>sum</th>\n",
              "      <th>frequencies</th>\n",
              "    </tr>\n",
              "    <tr>\n",
              "      <th>Inscription_date</th>\n",
              "      <th></th>\n",
              "      <th></th>\n",
              "      <th></th>\n",
              "      <th></th>\n",
              "    </tr>\n",
              "  </thead>\n",
              "  <tbody>\n",
              "    <tr>\n",
              "      <th>2021-02-14</th>\n",
              "      <td>28</td>\n",
              "      <td>108</td>\n",
              "      <td>136</td>\n",
              "      <td>0.544</td>\n",
              "    </tr>\n",
              "    <tr>\n",
              "      <th>2021-02-21</th>\n",
              "      <td>13</td>\n",
              "      <td>41</td>\n",
              "      <td>54</td>\n",
              "      <td>0.216</td>\n",
              "    </tr>\n",
              "    <tr>\n",
              "      <th>2021-02-28</th>\n",
              "      <td>3</td>\n",
              "      <td>26</td>\n",
              "      <td>29</td>\n",
              "      <td>0.116</td>\n",
              "    </tr>\n",
              "    <tr>\n",
              "      <th>2021-03-07</th>\n",
              "      <td>3</td>\n",
              "      <td>26</td>\n",
              "      <td>29</td>\n",
              "      <td>0.116</td>\n",
              "    </tr>\n",
              "    <tr>\n",
              "      <th>2021-03-14</th>\n",
              "      <td>0</td>\n",
              "      <td>2</td>\n",
              "      <td>2</td>\n",
              "      <td>0.008</td>\n",
              "    </tr>\n",
              "  </tbody>\n",
              "</table>\n",
              "</div>"
            ],
            "text/plain": [
              "                  female  male  sum  frequencies\n",
              "Inscription_date                                \n",
              "2021-02-14            28   108  136        0.544\n",
              "2021-02-21            13    41   54        0.216\n",
              "2021-02-28             3    26   29        0.116\n",
              "2021-03-07             3    26   29        0.116\n",
              "2021-03-14             0     2    2        0.008"
            ]
          },
          "metadata": {
            "tags": []
          },
          "execution_count": 413
        }
      ]
    },
    {
      "cell_type": "code",
      "metadata": {
        "id": "ao3zmOpa_UOJ",
        "colab": {
          "base_uri": "https://localhost:8080/"
        },
        "outputId": "2a95d2fc-bf99-46e2-9437-9441149e836d"
      },
      "source": [
        "registration_data_mean=(registration_data['sum'].sum())/registration_data.shape[0]\n",
        "registration_data_mean"
      ],
      "execution_count": null,
      "outputs": [
        {
          "output_type": "execute_result",
          "data": {
            "text/plain": [
              "50.0"
            ]
          },
          "metadata": {
            "tags": []
          },
          "execution_count": 414
        }
      ]
    },
    {
      "cell_type": "code",
      "metadata": {
        "id": "GUX4MF627DWS",
        "colab": {
          "base_uri": "https://localhost:8080/",
          "height": 406
        },
        "outputId": "3cfeabed-e048-41fa-b908-964610c3c2c0"
      },
      "source": [
        "generate_barchart(data=registration_data,title=\"Applicants per months\",abs_value=\"sum\",rel_value=\"frequencies\")\n"
      ],
      "execution_count": null,
      "outputs": [
        {
          "output_type": "display_data",
          "data": {
            "image/png": "[encoded data removed]",
            "text/plain": [
              "<Figure size 720x432 with 1 Axes>"
            ]
          },
          "metadata": {
            "tags": [],
            "needs_background": "light"
          }
        }
      ]
    },
    {
      "cell_type": "code",
      "metadata": {
        "colab": {
          "base_uri": "https://localhost:8080/",
          "height": 444
        },
        "id": "BkAUAlD83h-_",
        "outputId": "84a42876-dbe4-4f18-995e-df42cd1f8e49"
      },
      "source": [
        "plt.figure(figsize=(10,6))\n",
        "sns.distplot(x=registration_data ,kde=True)\n",
        "plt.title(\"Age distribution\")\n",
        "plt.show()"
      ],
      "execution_count": null,
      "outputs": [
        {
          "output_type": "stream",
          "text": [
            "/usr/local/lib/python3.7/dist-packages/seaborn/distributions.py:2557: FutureWarning: `distplot` is a deprecated function and will be removed in a future version. Please adapt your code to use either `displot` (a figure-level function with similar flexibility) or `histplot` (an axes-level function for histograms).\n",
            "  warnings.warn(msg, FutureWarning)\n"
          ],
          "name": "stderr"
        },
        {
          "output_type": "display_data",
          "data": {
            "image/png": "[encoded data removed]",
            "text/plain": [
              "<Figure size 720x432 with 1 Axes>"
            ]
          },
          "metadata": {
            "tags": [],
            "needs_background": "light"
          }
        }
      ]
    },
    {
      "cell_type": "markdown",
      "metadata": {
        "id": "EH1xDRhs63QH"
      },
      "source": [
        "Based on the calculate and figure the average number of applications is 50%"
      ]
    },
    {
      "cell_type": "markdown",
      "metadata": {
        "id": "cAK6vv4Ke3Mj"
      },
      "source": [
        "."
      ]
    },
    {
      "cell_type": "markdown",
      "metadata": {
        "id": "q9YP_oFxtIZ9"
      },
      "source": [
        "##4.Let's see if were to do all the bootcamp online, who \n",
        "would be the best communes and how many applications would we need to select 30 student and what percentage of students would have a laptop, an internet connection, both at the same time."
      ]
    },
    {
      "cell_type": "code",
      "metadata": {
        "id": "ZqpP6fy_e4VH",
        "colab": {
          "base_uri": "https://localhost:8080/",
          "height": 204
        },
        "outputId": "057066a1-eb3b-4ee9-cde9-e8837211c389"
      },
      "source": [
        "#Find the total and the percent of participants with internet access\n",
        "int_home=pvtable7[\"Yes\"].to_frame()\n",
        "int_home_percent= int_home/df5.shape[0]\n",
        "int_home1=int_home.sort_values(by=\"Yes\", ascending=False)\n",
        "int_home_percent1=int_home_percent.sort_values(by=\"Yes\",ascending=False)\n",
        "int_home1.rename(columns={\"Yes\": \"Total Internet\"},inplace=True)\n",
        "int_home_percent1.rename(columns={\"Yes\": \"Total Percent Internet\"},inplace=True)\n",
        "int_df= pd.concat([int_home1,int_home_percent1], axis=1)\n",
        "int_df.head(4)"
      ],
      "execution_count": null,
      "outputs": [
        {
          "output_type": "execute_result",
          "data": {
            "text/html": [
              "<div>\n",
              "<style scoped>\n",
              "    .dataframe tbody tr th:only-of-type {\n",
              "        vertical-align: middle;\n",
              "    }\n",
              "\n",
              "    .dataframe tbody tr th {\n",
              "        vertical-align: top;\n",
              "    }\n",
              "\n",
              "    .dataframe thead th {\n",
              "        text-align: right;\n",
              "    }\n",
              "</style>\n",
              "<table border=\"1\" class=\"dataframe\">\n",
              "  <thead>\n",
              "    <tr style=\"text-align: right;\">\n",
              "      <th></th>\n",
              "      <th>Total Internet</th>\n",
              "      <th>Total Percent Internet</th>\n",
              "    </tr>\n",
              "    <tr>\n",
              "      <th>Commune_FR</th>\n",
              "      <th></th>\n",
              "      <th></th>\n",
              "    </tr>\n",
              "  </thead>\n",
              "  <tbody>\n",
              "    <tr>\n",
              "      <th>Delmas</th>\n",
              "      <td>61</td>\n",
              "      <td>0.244</td>\n",
              "    </tr>\n",
              "    <tr>\n",
              "      <th>Port-au-Prince</th>\n",
              "      <td>52</td>\n",
              "      <td>0.208</td>\n",
              "    </tr>\n",
              "    <tr>\n",
              "      <th>Pétion-Ville</th>\n",
              "      <td>25</td>\n",
              "      <td>0.100</td>\n",
              "    </tr>\n",
              "    <tr>\n",
              "      <th>Carrefour</th>\n",
              "      <td>18</td>\n",
              "      <td>0.072</td>\n",
              "    </tr>\n",
              "  </tbody>\n",
              "</table>\n",
              "</div>"
            ],
            "text/plain": [
              "                Total Internet  Total Percent Internet\n",
              "Commune_FR                                            \n",
              "Delmas                      61                   0.244\n",
              "Port-au-Prince              52                   0.208\n",
              "Pétion-Ville                25                   0.100\n",
              "Carrefour                   18                   0.072"
            ]
          },
          "metadata": {
            "tags": []
          },
          "execution_count": 417
        }
      ]
    },
    {
      "cell_type": "code",
      "metadata": {
        "id": "nEv527zanoxA",
        "colab": {
          "base_uri": "https://localhost:8080/",
          "height": 434
        },
        "outputId": "4790038b-a165-4ad2-c7b4-e005dcceb892"
      },
      "source": [
        "generate_barchart(data=int_df.iloc[:4,:],title=\"Total and Percent\",abs_value=\"Total Internet\",rel_value=\"Total Percent Internet\")"
      ],
      "execution_count": null,
      "outputs": [
        {
          "output_type": "display_data",
          "data": {
            "image/png": "[encoded data removed]",
            "text/plain": [
              "<Figure size 720x432 with 1 Axes>"
            ]
          },
          "metadata": {
            "tags": [],
            "needs_background": "light"
          }
        }
      ]
    },
    {
      "cell_type": "code",
      "metadata": {
        "id": "cMGNlMKu13WW",
        "colab": {
          "base_uri": "https://localhost:8080/",
          "height": 173
        },
        "outputId": "eaf589bc-7fa5-4eaf-b11e-6c42dc0b2ee5"
      },
      "source": [
        "comp_home=pvtable8['Yes'].to_frame()\n",
        "Percent_Computer= comp_home/df5.shape[0]\n",
        "comp_home1=int_home.sort_values(by=\"Yes\", ascending=False)\n",
        "Percent_Computer1=Percent_Computer.sort_values(by=\"Yes\",ascending=False)\n",
        "comp_home1.rename(columns={\"Yes\":\"Total Computer\"},inplace= True)\n",
        "Percent_Computer1.rename(columns={\"Yes\": \"Percent Computer\"}, inplace=True)\n",
        "Tot_comp_df= pd.concat([comp_home1,Percent_Computer1],axis=1)\n",
        "Tot_comp_df.head(4)\n",
        "\n"
      ],
      "execution_count": null,
      "outputs": [
        {
          "output_type": "execute_result",
          "data": {
            "text/html": [
              "<div>\n",
              "<style scoped>\n",
              "    .dataframe tbody tr th:only-of-type {\n",
              "        vertical-align: middle;\n",
              "    }\n",
              "\n",
              "    .dataframe tbody tr th {\n",
              "        vertical-align: top;\n",
              "    }\n",
              "\n",
              "    .dataframe thead th {\n",
              "        text-align: right;\n",
              "    }\n",
              "</style>\n",
              "<table border=\"1\" class=\"dataframe\">\n",
              "  <thead>\n",
              "    <tr style=\"text-align: right;\">\n",
              "      <th></th>\n",
              "      <th>Total Computer</th>\n",
              "      <th>Percent Computer</th>\n",
              "    </tr>\n",
              "  </thead>\n",
              "  <tbody>\n",
              "    <tr>\n",
              "      <th>Delmas</th>\n",
              "      <td>61</td>\n",
              "      <td>0.264</td>\n",
              "    </tr>\n",
              "    <tr>\n",
              "      <th>Port-au-Prince</th>\n",
              "      <td>52</td>\n",
              "      <td>0.228</td>\n",
              "    </tr>\n",
              "    <tr>\n",
              "      <th>Pétion-Ville</th>\n",
              "      <td>25</td>\n",
              "      <td>0.100</td>\n",
              "    </tr>\n",
              "    <tr>\n",
              "      <th>Carrefour</th>\n",
              "      <td>18</td>\n",
              "      <td>0.084</td>\n",
              "    </tr>\n",
              "  </tbody>\n",
              "</table>\n",
              "</div>"
            ],
            "text/plain": [
              "                Total Computer  Percent Computer\n",
              "Delmas                      61             0.264\n",
              "Port-au-Prince              52             0.228\n",
              "Pétion-Ville                25             0.100\n",
              "Carrefour                   18             0.084"
            ]
          },
          "metadata": {
            "tags": []
          },
          "execution_count": 419
        }
      ]
    },
    {
      "cell_type": "code",
      "metadata": {
        "id": "NJqWovR3ZYuH",
        "colab": {
          "base_uri": "https://localhost:8080/",
          "height": 1000
        },
        "outputId": "c48a4ead-5a7f-499a-d933-899d78fd7f67"
      },
      "source": [
        "total_comp_int= pd.merge(left=int_home,right=comp_home, how=\"left\", on=\"Commune_FR\")\n",
        "total_comp_int"
      ],
      "execution_count": null,
      "outputs": [
        {
          "output_type": "execute_result",
          "data": {
            "text/html": [
              "<div>\n",
              "<style scoped>\n",
              "    .dataframe tbody tr th:only-of-type {\n",
              "        vertical-align: middle;\n",
              "    }\n",
              "\n",
              "    .dataframe tbody tr th {\n",
              "        vertical-align: top;\n",
              "    }\n",
              "\n",
              "    .dataframe thead th {\n",
              "        text-align: right;\n",
              "    }\n",
              "</style>\n",
              "<table border=\"1\" class=\"dataframe\">\n",
              "  <thead>\n",
              "    <tr style=\"text-align: right;\">\n",
              "      <th></th>\n",
              "      <th>Yes_x</th>\n",
              "      <th>Yes_y</th>\n",
              "    </tr>\n",
              "    <tr>\n",
              "      <th>Commune_FR</th>\n",
              "      <th></th>\n",
              "      <th></th>\n",
              "    </tr>\n",
              "  </thead>\n",
              "  <tbody>\n",
              "    <tr>\n",
              "      <th>Aquin</th>\n",
              "      <td>1</td>\n",
              "      <td>1</td>\n",
              "    </tr>\n",
              "    <tr>\n",
              "      <th>Cap-Haïtien</th>\n",
              "      <td>3</td>\n",
              "      <td>5</td>\n",
              "    </tr>\n",
              "    <tr>\n",
              "      <th>Caracol</th>\n",
              "      <td>1</td>\n",
              "      <td>1</td>\n",
              "    </tr>\n",
              "    <tr>\n",
              "      <th>Carrefour</th>\n",
              "      <td>18</td>\n",
              "      <td>21</td>\n",
              "    </tr>\n",
              "    <tr>\n",
              "      <th>Cité Soleil</th>\n",
              "      <td>3</td>\n",
              "      <td>3</td>\n",
              "    </tr>\n",
              "    <tr>\n",
              "      <th>Cornillon / Grand Bois</th>\n",
              "      <td>1</td>\n",
              "      <td>1</td>\n",
              "    </tr>\n",
              "    <tr>\n",
              "      <th>Croix-Des-Bouquets</th>\n",
              "      <td>8</td>\n",
              "      <td>10</td>\n",
              "    </tr>\n",
              "    <tr>\n",
              "      <th>Delmas</th>\n",
              "      <td>61</td>\n",
              "      <td>66</td>\n",
              "    </tr>\n",
              "    <tr>\n",
              "      <th>Dondon</th>\n",
              "      <td>0</td>\n",
              "      <td>1</td>\n",
              "    </tr>\n",
              "    <tr>\n",
              "      <th>Ferrier</th>\n",
              "      <td>1</td>\n",
              "      <td>1</td>\n",
              "    </tr>\n",
              "    <tr>\n",
              "      <th>Ganthier</th>\n",
              "      <td>0</td>\n",
              "      <td>1</td>\n",
              "    </tr>\n",
              "    <tr>\n",
              "      <th>Grand-Goâve</th>\n",
              "      <td>1</td>\n",
              "      <td>1</td>\n",
              "    </tr>\n",
              "    <tr>\n",
              "      <th>Gressier</th>\n",
              "      <td>0</td>\n",
              "      <td>1</td>\n",
              "    </tr>\n",
              "    <tr>\n",
              "      <th>Gros Morne</th>\n",
              "      <td>1</td>\n",
              "      <td>1</td>\n",
              "    </tr>\n",
              "    <tr>\n",
              "      <th>Hinche</th>\n",
              "      <td>1</td>\n",
              "      <td>1</td>\n",
              "    </tr>\n",
              "    <tr>\n",
              "      <th>Jacmel</th>\n",
              "      <td>3</td>\n",
              "      <td>3</td>\n",
              "    </tr>\n",
              "    <tr>\n",
              "      <th>Kenscoff</th>\n",
              "      <td>1</td>\n",
              "      <td>1</td>\n",
              "    </tr>\n",
              "    <tr>\n",
              "      <th>Les Cayes</th>\n",
              "      <td>0</td>\n",
              "      <td>0</td>\n",
              "    </tr>\n",
              "    <tr>\n",
              "      <th>Limonade</th>\n",
              "      <td>1</td>\n",
              "      <td>1</td>\n",
              "    </tr>\n",
              "    <tr>\n",
              "      <th>Léogâne</th>\n",
              "      <td>1</td>\n",
              "      <td>2</td>\n",
              "    </tr>\n",
              "    <tr>\n",
              "      <th>Mirebalais</th>\n",
              "      <td>3</td>\n",
              "      <td>3</td>\n",
              "    </tr>\n",
              "    <tr>\n",
              "      <th>Mombin Crochu</th>\n",
              "      <td>1</td>\n",
              "      <td>1</td>\n",
              "    </tr>\n",
              "    <tr>\n",
              "      <th>Ouanaminthe</th>\n",
              "      <td>2</td>\n",
              "      <td>3</td>\n",
              "    </tr>\n",
              "    <tr>\n",
              "      <th>Petit-Goâve</th>\n",
              "      <td>1</td>\n",
              "      <td>1</td>\n",
              "    </tr>\n",
              "    <tr>\n",
              "      <th>Petite Rivière de Nippes</th>\n",
              "      <td>1</td>\n",
              "      <td>1</td>\n",
              "    </tr>\n",
              "    <tr>\n",
              "      <th>Petite Rivière de l'Artibonite</th>\n",
              "      <td>1</td>\n",
              "      <td>1</td>\n",
              "    </tr>\n",
              "    <tr>\n",
              "      <th>Plaine du Nord</th>\n",
              "      <td>0</td>\n",
              "      <td>0</td>\n",
              "    </tr>\n",
              "    <tr>\n",
              "      <th>Port-Salut</th>\n",
              "      <td>0</td>\n",
              "      <td>0</td>\n",
              "    </tr>\n",
              "    <tr>\n",
              "      <th>Port-au-Prince</th>\n",
              "      <td>52</td>\n",
              "      <td>57</td>\n",
              "    </tr>\n",
              "    <tr>\n",
              "      <th>Pétion-Ville</th>\n",
              "      <td>25</td>\n",
              "      <td>25</td>\n",
              "    </tr>\n",
              "    <tr>\n",
              "      <th>Saint-Louis du Nord</th>\n",
              "      <td>1</td>\n",
              "      <td>1</td>\n",
              "    </tr>\n",
              "    <tr>\n",
              "      <th>Saint-Marc</th>\n",
              "      <td>4</td>\n",
              "      <td>4</td>\n",
              "    </tr>\n",
              "    <tr>\n",
              "      <th>Sainte Suzanne</th>\n",
              "      <td>1</td>\n",
              "      <td>1</td>\n",
              "    </tr>\n",
              "    <tr>\n",
              "      <th>Tabarre</th>\n",
              "      <td>9</td>\n",
              "      <td>11</td>\n",
              "    </tr>\n",
              "    <tr>\n",
              "      <th>Verrettes</th>\n",
              "      <td>3</td>\n",
              "      <td>3</td>\n",
              "    </tr>\n",
              "  </tbody>\n",
              "</table>\n",
              "</div>"
            ],
            "text/plain": [
              "                                Yes_x  Yes_y\n",
              "Commune_FR                                  \n",
              "Aquin                               1      1\n",
              "Cap-Haïtien                         3      5\n",
              "Caracol                             1      1\n",
              "Carrefour                          18     21\n",
              "Cité Soleil                         3      3\n",
              "Cornillon / Grand Bois              1      1\n",
              "Croix-Des-Bouquets                  8     10\n",
              "Delmas                             61     66\n",
              "Dondon                              0      1\n",
              "Ferrier                             1      1\n",
              "Ganthier                            0      1\n",
              "Grand-Goâve                         1      1\n",
              "Gressier                            0      1\n",
              "Gros Morne                          1      1\n",
              "Hinche                              1      1\n",
              "Jacmel                              3      3\n",
              "Kenscoff                            1      1\n",
              "Les Cayes                           0      0\n",
              "Limonade                            1      1\n",
              "Léogâne                             1      2\n",
              "Mirebalais                          3      3\n",
              "Mombin Crochu                       1      1\n",
              "Ouanaminthe                         2      3\n",
              "Petit-Goâve                         1      1\n",
              "Petite Rivière de Nippes            1      1\n",
              "Petite Rivière de l'Artibonite      1      1\n",
              "Plaine du Nord                      0      0\n",
              "Port-Salut                          0      0\n",
              "Port-au-Prince                     52     57\n",
              "Pétion-Ville                       25     25\n",
              "Saint-Louis du Nord                 1      1\n",
              "Saint-Marc                          4      4\n",
              "Sainte Suzanne                      1      1\n",
              "Tabarre                             9     11\n",
              "Verrettes                           3      3"
            ]
          },
          "metadata": {
            "tags": []
          },
          "execution_count": 420
        }
      ]
    },
    {
      "cell_type": "code",
      "metadata": {
        "id": "XEO5wyOjzHSs",
        "colab": {
          "base_uri": "https://localhost:8080/",
          "height": 419
        },
        "outputId": "96331d8a-b640-400b-a565-1d72dd4aa40a"
      },
      "source": [
        "generate_barchart(data=Tot_comp_df.iloc[:4,:],title=\"Total and Percent\",abs_value=\"Total Computer\",rel_value=\"Percent Computer\")"
      ],
      "execution_count": null,
      "outputs": [
        {
          "output_type": "display_data",
          "data": {
            "image/png": "[encoded data removed]",
            "text/plain": [
              "<Figure size 720x432 with 1 Axes>"
            ]
          },
          "metadata": {
            "tags": [],
            "needs_background": "light"
          }
        }
      ]
    },
    {
      "cell_type": "code",
      "metadata": {
        "id": "UmIJQeOkPT9P"
      },
      "source": [
        ""
      ],
      "execution_count": null,
      "outputs": []
    },
    {
      "cell_type": "markdown",
      "metadata": {
        "id": "q1Ah8APVnEdD"
      },
      "source": [
        "."
      ]
    },
    {
      "cell_type": "markdown",
      "metadata": {
        "id": "VlcjU4uBnQEj"
      },
      "source": [
        "##5.Let's see the most effective communication channels (Alumni, Facebook, WhatsApp, Friend ...) that will allow a women to be susceptible to selection\n"
      ]
    },
    {
      "cell_type": "code",
      "metadata": {
        "id": "pCZSw8QjnGK1",
        "colab": {
          "base_uri": "https://localhost:8080/",
          "height": 430
        },
        "outputId": "184259e3-64e3-4adb-f610-8415fc345dab"
      },
      "source": [
        "# Make a matplotlib figure to show the most communication channels to susceptible the women\n",
        "ax = pvtable5.plot(kind=\"bar\")\n",
        "fig = ax.get_figure()\n",
        "fig.set_size_inches(10, 6)\n",
        "ax.set_xlabel(\"gender\")\n",
        "ax.set_ylabel(\"Means_of_communication\")"
      ],
      "execution_count": null,
      "outputs": [
        {
          "output_type": "execute_result",
          "data": {
            "text/plain": [
              "Text(0, 0.5, 'Means_of_communication')"
            ]
          },
          "metadata": {
            "tags": []
          },
          "execution_count": 422
        },
        {
          "output_type": "display_data",
          "data": {
            "image/png": "[encoded data removed]",
            "text/plain": [
              "<Figure size 720x432 with 1 Axes>"
            ]
          },
          "metadata": {
            "tags": [],
            "needs_background": "light"
          }
        }
      ]
    },
    {
      "cell_type": "markdown",
      "metadata": {
        "id": "SS4wREVbvUO0"
      },
      "source": [
        "The easiest communication channels to reach a lot more women is through friends."
      ]
    },
    {
      "cell_type": "markdown",
      "metadata": {
        "id": "K6BL8uX-_mLf"
      },
      "source": [
        "."
      ]
    },
    {
      "cell_type": "markdown",
      "metadata": {
        "id": "RfnCeQcT_p5O"
      },
      "source": [
        "##6.Let's see which three communes of the country will be the most likely to expand its training centers.\n"
      ]
    },
    {
      "cell_type": "code",
      "metadata": {
        "id": "ERVd2toT_ud7",
        "colab": {
          "base_uri": "https://localhost:8080/",
          "height": 1000
        },
        "outputId": "97838974-5828-4abf-add9-edea85444b9c"
      },
      "source": [
        "#How many applicants\n",
        "total_enscript_by_commune= df5.Commune_FR.value_counts(normalize=False).to_frame()\n",
        "total_enscript_by_commune.rename(columns={\"Commune_FR\": \"Total\"},inplace=True)\n",
        "\n",
        "#How many applicants by \"commune\" and \"Amount_Payed\"\n",
        "Total_Pay_By_Commune =df5.groupby(by=[\"Commune_FR\"]).amount_dollars.sum().to_frame()\n",
        "Total_Pay_By_Commune.rename(columns={\"amount_dollars\": \"Total Pay\"},inplace=True)\n",
        "Total_Pay_By_Commune.sort_values(by=['Total Pay'],  ascending=False, inplace=True)\n",
        "\n",
        "#Percent pay by commune\n",
        "Percent_pay_by_Commune = Total_Pay_By_Commune =df5.groupby(by=[\"Commune_FR\"]).amount_dollars.sum().to_frame()/df5.shape[0]\n",
        "Percent_pay_by_Commune.rename(columns={\"amount_dollars\": \"Percent_Pay\"},inplace=True)\n",
        "Percent_pay_by_Commune.sort_values(by=['Percent_Pay'],  ascending=False, inplace=True)\n",
        "\n",
        "Commune= pd.concat([Percent_pay_by_Commune,total_enscript_by_commune],axis=1)\n",
        "Commune"
      ],
      "execution_count": null,
      "outputs": [
        {
          "output_type": "execute_result",
          "data": {
            "text/html": [
              "<div>\n",
              "<style scoped>\n",
              "    .dataframe tbody tr th:only-of-type {\n",
              "        vertical-align: middle;\n",
              "    }\n",
              "\n",
              "    .dataframe tbody tr th {\n",
              "        vertical-align: top;\n",
              "    }\n",
              "\n",
              "    .dataframe thead th {\n",
              "        text-align: right;\n",
              "    }\n",
              "</style>\n",
              "<table border=\"1\" class=\"dataframe\">\n",
              "  <thead>\n",
              "    <tr style=\"text-align: right;\">\n",
              "      <th></th>\n",
              "      <th>Percent_Pay</th>\n",
              "      <th>Total</th>\n",
              "    </tr>\n",
              "  </thead>\n",
              "  <tbody>\n",
              "    <tr>\n",
              "      <th>Delmas</th>\n",
              "      <td>4.468571</td>\n",
              "      <td>71</td>\n",
              "    </tr>\n",
              "    <tr>\n",
              "      <th>Port-au-Prince</th>\n",
              "      <td>3.634286</td>\n",
              "      <td>59</td>\n",
              "    </tr>\n",
              "    <tr>\n",
              "      <th>Pétion-Ville</th>\n",
              "      <td>1.822857</td>\n",
              "      <td>29</td>\n",
              "    </tr>\n",
              "    <tr>\n",
              "      <th>Carrefour</th>\n",
              "      <td>1.445714</td>\n",
              "      <td>23</td>\n",
              "    </tr>\n",
              "    <tr>\n",
              "      <th>Tabarre</th>\n",
              "      <td>0.691429</td>\n",
              "      <td>11</td>\n",
              "    </tr>\n",
              "    <tr>\n",
              "      <th>Croix-Des-Bouquets</th>\n",
              "      <td>0.645714</td>\n",
              "      <td>10</td>\n",
              "    </tr>\n",
              "    <tr>\n",
              "      <th>Cap-Haïtien</th>\n",
              "      <td>0.314286</td>\n",
              "      <td>5</td>\n",
              "    </tr>\n",
              "    <tr>\n",
              "      <th>Saint-Marc</th>\n",
              "      <td>0.251429</td>\n",
              "      <td>4</td>\n",
              "    </tr>\n",
              "    <tr>\n",
              "      <th>Jacmel</th>\n",
              "      <td>0.205714</td>\n",
              "      <td>3</td>\n",
              "    </tr>\n",
              "    <tr>\n",
              "      <th>Verrettes</th>\n",
              "      <td>0.205714</td>\n",
              "      <td>3</td>\n",
              "    </tr>\n",
              "    <tr>\n",
              "      <th>Mirebalais</th>\n",
              "      <td>0.205714</td>\n",
              "      <td>3</td>\n",
              "    </tr>\n",
              "    <tr>\n",
              "      <th>Ouanaminthe</th>\n",
              "      <td>0.188571</td>\n",
              "      <td>3</td>\n",
              "    </tr>\n",
              "    <tr>\n",
              "      <th>Cité Soleil</th>\n",
              "      <td>0.188571</td>\n",
              "      <td>3</td>\n",
              "    </tr>\n",
              "    <tr>\n",
              "      <th>Léogâne</th>\n",
              "      <td>0.125714</td>\n",
              "      <td>2</td>\n",
              "    </tr>\n",
              "    <tr>\n",
              "      <th>Saint-Louis du Nord</th>\n",
              "      <td>0.062857</td>\n",
              "      <td>1</td>\n",
              "    </tr>\n",
              "    <tr>\n",
              "      <th>Port-Salut</th>\n",
              "      <td>0.062857</td>\n",
              "      <td>1</td>\n",
              "    </tr>\n",
              "    <tr>\n",
              "      <th>Plaine du Nord</th>\n",
              "      <td>0.062857</td>\n",
              "      <td>1</td>\n",
              "    </tr>\n",
              "    <tr>\n",
              "      <th>Petite Rivière de l'Artibonite</th>\n",
              "      <td>0.062857</td>\n",
              "      <td>1</td>\n",
              "    </tr>\n",
              "    <tr>\n",
              "      <th>Sainte Suzanne</th>\n",
              "      <td>0.062857</td>\n",
              "      <td>1</td>\n",
              "    </tr>\n",
              "    <tr>\n",
              "      <th>Petite Rivière de Nippes</th>\n",
              "      <td>0.062857</td>\n",
              "      <td>1</td>\n",
              "    </tr>\n",
              "    <tr>\n",
              "      <th>Petit-Goâve</th>\n",
              "      <td>0.062857</td>\n",
              "      <td>1</td>\n",
              "    </tr>\n",
              "    <tr>\n",
              "      <th>Aquin</th>\n",
              "      <td>0.062857</td>\n",
              "      <td>1</td>\n",
              "    </tr>\n",
              "    <tr>\n",
              "      <th>Mombin Crochu</th>\n",
              "      <td>0.062857</td>\n",
              "      <td>1</td>\n",
              "    </tr>\n",
              "    <tr>\n",
              "      <th>Limonade</th>\n",
              "      <td>0.062857</td>\n",
              "      <td>1</td>\n",
              "    </tr>\n",
              "    <tr>\n",
              "      <th>Kenscoff</th>\n",
              "      <td>0.062857</td>\n",
              "      <td>1</td>\n",
              "    </tr>\n",
              "    <tr>\n",
              "      <th>Hinche</th>\n",
              "      <td>0.062857</td>\n",
              "      <td>1</td>\n",
              "    </tr>\n",
              "    <tr>\n",
              "      <th>Gros Morne</th>\n",
              "      <td>0.062857</td>\n",
              "      <td>1</td>\n",
              "    </tr>\n",
              "    <tr>\n",
              "      <th>Gressier</th>\n",
              "      <td>0.062857</td>\n",
              "      <td>1</td>\n",
              "    </tr>\n",
              "    <tr>\n",
              "      <th>Grand-Goâve</th>\n",
              "      <td>0.062857</td>\n",
              "      <td>1</td>\n",
              "    </tr>\n",
              "    <tr>\n",
              "      <th>Ganthier</th>\n",
              "      <td>0.062857</td>\n",
              "      <td>1</td>\n",
              "    </tr>\n",
              "    <tr>\n",
              "      <th>Ferrier</th>\n",
              "      <td>0.062857</td>\n",
              "      <td>1</td>\n",
              "    </tr>\n",
              "    <tr>\n",
              "      <th>Dondon</th>\n",
              "      <td>0.062857</td>\n",
              "      <td>1</td>\n",
              "    </tr>\n",
              "    <tr>\n",
              "      <th>Cornillon / Grand Bois</th>\n",
              "      <td>0.062857</td>\n",
              "      <td>1</td>\n",
              "    </tr>\n",
              "    <tr>\n",
              "      <th>Caracol</th>\n",
              "      <td>0.062857</td>\n",
              "      <td>1</td>\n",
              "    </tr>\n",
              "    <tr>\n",
              "      <th>Les Cayes</th>\n",
              "      <td>0.062857</td>\n",
              "      <td>1</td>\n",
              "    </tr>\n",
              "  </tbody>\n",
              "</table>\n",
              "</div>"
            ],
            "text/plain": [
              "                                Percent_Pay  Total\n",
              "Delmas                             4.468571     71\n",
              "Port-au-Prince                     3.634286     59\n",
              "Pétion-Ville                       1.822857     29\n",
              "Carrefour                          1.445714     23\n",
              "Tabarre                            0.691429     11\n",
              "Croix-Des-Bouquets                 0.645714     10\n",
              "Cap-Haïtien                        0.314286      5\n",
              "Saint-Marc                         0.251429      4\n",
              "Jacmel                             0.205714      3\n",
              "Verrettes                          0.205714      3\n",
              "Mirebalais                         0.205714      3\n",
              "Ouanaminthe                        0.188571      3\n",
              "Cité Soleil                        0.188571      3\n",
              "Léogâne                            0.125714      2\n",
              "Saint-Louis du Nord                0.062857      1\n",
              "Port-Salut                         0.062857      1\n",
              "Plaine du Nord                     0.062857      1\n",
              "Petite Rivière de l'Artibonite     0.062857      1\n",
              "Sainte Suzanne                     0.062857      1\n",
              "Petite Rivière de Nippes           0.062857      1\n",
              "Petit-Goâve                        0.062857      1\n",
              "Aquin                              0.062857      1\n",
              "Mombin Crochu                      0.062857      1\n",
              "Limonade                           0.062857      1\n",
              "Kenscoff                           0.062857      1\n",
              "Hinche                             0.062857      1\n",
              "Gros Morne                         0.062857      1\n",
              "Gressier                           0.062857      1\n",
              "Grand-Goâve                        0.062857      1\n",
              "Ganthier                           0.062857      1\n",
              "Ferrier                            0.062857      1\n",
              "Dondon                             0.062857      1\n",
              "Cornillon / Grand Bois             0.062857      1\n",
              "Caracol                            0.062857      1\n",
              "Les Cayes                          0.062857      1"
            ]
          },
          "metadata": {
            "tags": []
          },
          "execution_count": 423
        }
      ]
    },
    {
      "cell_type": "code",
      "metadata": {
        "id": "wCRKg4E1yaWd",
        "colab": {
          "base_uri": "https://localhost:8080/",
          "height": 142
        },
        "outputId": "5af26f24-59ea-442f-d771-8459d021b97f"
      },
      "source": [
        "commune_total = df5.Commune_FR.value_counts(normalize=False).to_frame()\n",
        "commune_total1= commune_total.sort_values(by=\"Commune_FR\",ascending=False)\n",
        "commune_total1[\"frequence\"]=  commune_total1/df5.shape[0]  \n",
        "total_commune2 =commune_total1.loc[[\"Delmas\",\"Pétion-Ville\",\"Carrefour\"]]\n",
        "total_commune2"
      ],
      "execution_count": null,
      "outputs": [
        {
          "output_type": "execute_result",
          "data": {
            "text/html": [
              "<div>\n",
              "<style scoped>\n",
              "    .dataframe tbody tr th:only-of-type {\n",
              "        vertical-align: middle;\n",
              "    }\n",
              "\n",
              "    .dataframe tbody tr th {\n",
              "        vertical-align: top;\n",
              "    }\n",
              "\n",
              "    .dataframe thead th {\n",
              "        text-align: right;\n",
              "    }\n",
              "</style>\n",
              "<table border=\"1\" class=\"dataframe\">\n",
              "  <thead>\n",
              "    <tr style=\"text-align: right;\">\n",
              "      <th></th>\n",
              "      <th>Commune_FR</th>\n",
              "      <th>frequence</th>\n",
              "    </tr>\n",
              "  </thead>\n",
              "  <tbody>\n",
              "    <tr>\n",
              "      <th>Delmas</th>\n",
              "      <td>71</td>\n",
              "      <td>0.284</td>\n",
              "    </tr>\n",
              "    <tr>\n",
              "      <th>Pétion-Ville</th>\n",
              "      <td>29</td>\n",
              "      <td>0.116</td>\n",
              "    </tr>\n",
              "    <tr>\n",
              "      <th>Carrefour</th>\n",
              "      <td>23</td>\n",
              "      <td>0.092</td>\n",
              "    </tr>\n",
              "  </tbody>\n",
              "</table>\n",
              "</div>"
            ],
            "text/plain": [
              "              Commune_FR  frequence\n",
              "Delmas                71      0.284\n",
              "Pétion-Ville          29      0.116\n",
              "Carrefour             23      0.092"
            ]
          },
          "metadata": {
            "tags": []
          },
          "execution_count": 424
        }
      ]
    },
    {
      "cell_type": "code",
      "metadata": {
        "id": "RTYCBOr3y-dh",
        "colab": {
          "base_uri": "https://localhost:8080/",
          "height": 412
        },
        "outputId": "aeade946-6c89-4b05-a5d6-f9f92b7dee32"
      },
      "source": [
        "generate_barchart(data=total_commune2,title=\"Communes\",abs_value='Commune_FR',rel_value=\"frequence\")"
      ],
      "execution_count": null,
      "outputs": [
        {
          "output_type": "display_data",
          "data": {
            "image/png": "[encoded data removed]",
            "text/plain": [
              "<Figure size 720x432 with 1 Axes>"
            ]
          },
          "metadata": {
            "tags": [],
            "needs_background": "light"
          }
        }
      ]
    },
    {
      "cell_type": "code",
      "metadata": {
        "id": "KSuliF8pAIR3"
      },
      "source": [
        "#prob_category(data= df5, col='Commune_FR', show_plot=True, figsize=(10,4), title='Most likely Communes')"
      ],
      "execution_count": null,
      "outputs": []
    },
    {
      "cell_type": "markdown",
      "metadata": {
        "id": "fTYOaEB2AbRy"
      },
      "source": [
        "This presentation suggests the three most likely communes are: Delmas, Petion-Ville and Carrefour."
      ]
    },
    {
      "cell_type": "code",
      "metadata": {
        "id": "xClTzGUtAdIN"
      },
      "source": [
        ""
      ],
      "execution_count": null,
      "outputs": []
    },
    {
      "cell_type": "markdown",
      "metadata": {
        "id": "qOdKXyhF8s8i"
      },
      "source": [
        "."
      ]
    }
  ]
}